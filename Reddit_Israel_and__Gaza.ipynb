{
  "nbformat": 4,
  "nbformat_minor": 0,
  "metadata": {
    "colab": {
      "provenance": [],
      "authorship_tag": "ABX9TyNP9bGDtygPkjwyiRraAEvs",
      "include_colab_link": true
    },
    "kernelspec": {
      "name": "python3",
      "display_name": "Python 3"
    },
    "language_info": {
      "name": "python"
    }
  },
  "cells": [
    {
      "cell_type": "markdown",
      "metadata": {
        "id": "view-in-github",
        "colab_type": "text"
      },
      "source": [
        "<a href=\"https://colab.research.google.com/github/HChandeepa/Reddit-posts-on-the-Israel-Palestine-War-War/blob/Master/Reddit_Israel_and__Gaza.ipynb\" target=\"_parent\"><img src=\"https://colab.research.google.com/assets/colab-badge.svg\" alt=\"Open In Colab\"/></a>"
      ]
    },
    {
      "cell_type": "code",
      "execution_count": 1,
      "metadata": {
        "id": "aBJHbEUTT_hR",
        "colab": {
          "base_uri": "https://localhost:8080/"
        },
        "outputId": "6c014d1b-6805-4b12-c122-0a05269f5fea"
      },
      "outputs": [
        {
          "output_type": "stream",
          "name": "stdout",
          "text": [
            "Mounted at /content/drive\n"
          ]
        }
      ],
      "source": [
        "from google.colab import drive\n",
        "drive.mount('/content/drive')\n"
      ]
    },
    {
      "cell_type": "code",
      "source": [
        "import pandas as pd\n",
        "df = pd.read_csv('/content/drive/MyDrive/Colab Notebooks/Datasets/Israel_Gaza_War_Reddit_Data_Optimized_with_Comments1 - Copy.csv')"
      ],
      "metadata": {
        "id": "1lgPJSJypk8r"
      },
      "execution_count": 2,
      "outputs": []
    },
    {
      "cell_type": "code",
      "source": [
        "df.head()"
      ],
      "metadata": {
        "colab": {
          "base_uri": "https://localhost:8080/",
          "height": 206
        },
        "id": "qf2elysqqIsU",
        "outputId": "bdb0641d-5e84-4b36-8836-b04af568722b"
      },
      "execution_count": 3,
      "outputs": [
        {
          "output_type": "execute_result",
          "data": {
            "text/plain": [
              "                                          Post_Title  \\\n",
              "0  Israel resumes water supply to southern Gaza a...   \n",
              "1  Israel resumes water supply to southern Gaza a...   \n",
              "2  Israel resumes water supply to southern Gaza a...   \n",
              "3  Israel resumes water supply to southern Gaza a...   \n",
              "4  Israel resumes water supply to southern Gaza a...   \n",
              "\n",
              "                                        Comment_Text  Comment_Upvotes  \\\n",
              "0  As per CNN\\n\\nIsraeli Prime Minister Benjamin ...           4628.0   \n",
              "1  What’s the long game here?(3ish weeks) does Is...            703.0   \n",
              "2  Good job to U.S. diplomats for changing Isreal...           5684.0   \n",
              "3  The US is in a crucial position to advance the...           1805.0   \n",
              "4  Everybody hates the United States until it’s t...            230.0   \n",
              "\n",
              "  Comment_Created_Date  \n",
              "0     10/15/2023 17:52  \n",
              "1     10/15/2023 16:54  \n",
              "2     10/15/2023 16:24  \n",
              "3     10/15/2023 16:44  \n",
              "4     10/15/2023 20:14  "
            ],
            "text/html": [
              "\n",
              "  <div id=\"df-63b3a925-9658-4b67-acdc-2c87e5058131\" class=\"colab-df-container\">\n",
              "    <div>\n",
              "<style scoped>\n",
              "    .dataframe tbody tr th:only-of-type {\n",
              "        vertical-align: middle;\n",
              "    }\n",
              "\n",
              "    .dataframe tbody tr th {\n",
              "        vertical-align: top;\n",
              "    }\n",
              "\n",
              "    .dataframe thead th {\n",
              "        text-align: right;\n",
              "    }\n",
              "</style>\n",
              "<table border=\"1\" class=\"dataframe\">\n",
              "  <thead>\n",
              "    <tr style=\"text-align: right;\">\n",
              "      <th></th>\n",
              "      <th>Post_Title</th>\n",
              "      <th>Comment_Text</th>\n",
              "      <th>Comment_Upvotes</th>\n",
              "      <th>Comment_Created_Date</th>\n",
              "    </tr>\n",
              "  </thead>\n",
              "  <tbody>\n",
              "    <tr>\n",
              "      <th>0</th>\n",
              "      <td>Israel resumes water supply to southern Gaza a...</td>\n",
              "      <td>As per CNN\\n\\nIsraeli Prime Minister Benjamin ...</td>\n",
              "      <td>4628.0</td>\n",
              "      <td>10/15/2023 17:52</td>\n",
              "    </tr>\n",
              "    <tr>\n",
              "      <th>1</th>\n",
              "      <td>Israel resumes water supply to southern Gaza a...</td>\n",
              "      <td>What’s the long game here?(3ish weeks) does Is...</td>\n",
              "      <td>703.0</td>\n",
              "      <td>10/15/2023 16:54</td>\n",
              "    </tr>\n",
              "    <tr>\n",
              "      <th>2</th>\n",
              "      <td>Israel resumes water supply to southern Gaza a...</td>\n",
              "      <td>Good job to U.S. diplomats for changing Isreal...</td>\n",
              "      <td>5684.0</td>\n",
              "      <td>10/15/2023 16:24</td>\n",
              "    </tr>\n",
              "    <tr>\n",
              "      <th>3</th>\n",
              "      <td>Israel resumes water supply to southern Gaza a...</td>\n",
              "      <td>The US is in a crucial position to advance the...</td>\n",
              "      <td>1805.0</td>\n",
              "      <td>10/15/2023 16:44</td>\n",
              "    </tr>\n",
              "    <tr>\n",
              "      <th>4</th>\n",
              "      <td>Israel resumes water supply to southern Gaza a...</td>\n",
              "      <td>Everybody hates the United States until it’s t...</td>\n",
              "      <td>230.0</td>\n",
              "      <td>10/15/2023 20:14</td>\n",
              "    </tr>\n",
              "  </tbody>\n",
              "</table>\n",
              "</div>\n",
              "    <div class=\"colab-df-buttons\">\n",
              "\n",
              "  <div class=\"colab-df-container\">\n",
              "    <button class=\"colab-df-convert\" onclick=\"convertToInteractive('df-63b3a925-9658-4b67-acdc-2c87e5058131')\"\n",
              "            title=\"Convert this dataframe to an interactive table.\"\n",
              "            style=\"display:none;\">\n",
              "\n",
              "  <svg xmlns=\"http://www.w3.org/2000/svg\" height=\"24px\" viewBox=\"0 -960 960 960\">\n",
              "    <path d=\"M120-120v-720h720v720H120Zm60-500h600v-160H180v160Zm220 220h160v-160H400v160Zm0 220h160v-160H400v160ZM180-400h160v-160H180v160Zm440 0h160v-160H620v160ZM180-180h160v-160H180v160Zm440 0h160v-160H620v160Z\"/>\n",
              "  </svg>\n",
              "    </button>\n",
              "\n",
              "  <style>\n",
              "    .colab-df-container {\n",
              "      display:flex;\n",
              "      gap: 12px;\n",
              "    }\n",
              "\n",
              "    .colab-df-convert {\n",
              "      background-color: #E8F0FE;\n",
              "      border: none;\n",
              "      border-radius: 50%;\n",
              "      cursor: pointer;\n",
              "      display: none;\n",
              "      fill: #1967D2;\n",
              "      height: 32px;\n",
              "      padding: 0 0 0 0;\n",
              "      width: 32px;\n",
              "    }\n",
              "\n",
              "    .colab-df-convert:hover {\n",
              "      background-color: #E2EBFA;\n",
              "      box-shadow: 0px 1px 2px rgba(60, 64, 67, 0.3), 0px 1px 3px 1px rgba(60, 64, 67, 0.15);\n",
              "      fill: #174EA6;\n",
              "    }\n",
              "\n",
              "    .colab-df-buttons div {\n",
              "      margin-bottom: 4px;\n",
              "    }\n",
              "\n",
              "    [theme=dark] .colab-df-convert {\n",
              "      background-color: #3B4455;\n",
              "      fill: #D2E3FC;\n",
              "    }\n",
              "\n",
              "    [theme=dark] .colab-df-convert:hover {\n",
              "      background-color: #434B5C;\n",
              "      box-shadow: 0px 1px 3px 1px rgba(0, 0, 0, 0.15);\n",
              "      filter: drop-shadow(0px 1px 2px rgba(0, 0, 0, 0.3));\n",
              "      fill: #FFFFFF;\n",
              "    }\n",
              "  </style>\n",
              "\n",
              "    <script>\n",
              "      const buttonEl =\n",
              "        document.querySelector('#df-63b3a925-9658-4b67-acdc-2c87e5058131 button.colab-df-convert');\n",
              "      buttonEl.style.display =\n",
              "        google.colab.kernel.accessAllowed ? 'block' : 'none';\n",
              "\n",
              "      async function convertToInteractive(key) {\n",
              "        const element = document.querySelector('#df-63b3a925-9658-4b67-acdc-2c87e5058131');\n",
              "        const dataTable =\n",
              "          await google.colab.kernel.invokeFunction('convertToInteractive',\n",
              "                                                    [key], {});\n",
              "        if (!dataTable) return;\n",
              "\n",
              "        const docLinkHtml = 'Like what you see? Visit the ' +\n",
              "          '<a target=\"_blank\" href=https://colab.research.google.com/notebooks/data_table.ipynb>data table notebook</a>'\n",
              "          + ' to learn more about interactive tables.';\n",
              "        element.innerHTML = '';\n",
              "        dataTable['output_type'] = 'display_data';\n",
              "        await google.colab.output.renderOutput(dataTable, element);\n",
              "        const docLink = document.createElement('div');\n",
              "        docLink.innerHTML = docLinkHtml;\n",
              "        element.appendChild(docLink);\n",
              "      }\n",
              "    </script>\n",
              "  </div>\n",
              "\n",
              "\n",
              "<div id=\"df-98906f64-fb38-4aca-b5b8-f8e6546e6fe8\">\n",
              "  <button class=\"colab-df-quickchart\" onclick=\"quickchart('df-98906f64-fb38-4aca-b5b8-f8e6546e6fe8')\"\n",
              "            title=\"Suggest charts\"\n",
              "            style=\"display:none;\">\n",
              "\n",
              "<svg xmlns=\"http://www.w3.org/2000/svg\" height=\"24px\"viewBox=\"0 0 24 24\"\n",
              "     width=\"24px\">\n",
              "    <g>\n",
              "        <path d=\"M19 3H5c-1.1 0-2 .9-2 2v14c0 1.1.9 2 2 2h14c1.1 0 2-.9 2-2V5c0-1.1-.9-2-2-2zM9 17H7v-7h2v7zm4 0h-2V7h2v10zm4 0h-2v-4h2v4z\"/>\n",
              "    </g>\n",
              "</svg>\n",
              "  </button>\n",
              "\n",
              "<style>\n",
              "  .colab-df-quickchart {\n",
              "      --bg-color: #E8F0FE;\n",
              "      --fill-color: #1967D2;\n",
              "      --hover-bg-color: #E2EBFA;\n",
              "      --hover-fill-color: #174EA6;\n",
              "      --disabled-fill-color: #AAA;\n",
              "      --disabled-bg-color: #DDD;\n",
              "  }\n",
              "\n",
              "  [theme=dark] .colab-df-quickchart {\n",
              "      --bg-color: #3B4455;\n",
              "      --fill-color: #D2E3FC;\n",
              "      --hover-bg-color: #434B5C;\n",
              "      --hover-fill-color: #FFFFFF;\n",
              "      --disabled-bg-color: #3B4455;\n",
              "      --disabled-fill-color: #666;\n",
              "  }\n",
              "\n",
              "  .colab-df-quickchart {\n",
              "    background-color: var(--bg-color);\n",
              "    border: none;\n",
              "    border-radius: 50%;\n",
              "    cursor: pointer;\n",
              "    display: none;\n",
              "    fill: var(--fill-color);\n",
              "    height: 32px;\n",
              "    padding: 0;\n",
              "    width: 32px;\n",
              "  }\n",
              "\n",
              "  .colab-df-quickchart:hover {\n",
              "    background-color: var(--hover-bg-color);\n",
              "    box-shadow: 0 1px 2px rgba(60, 64, 67, 0.3), 0 1px 3px 1px rgba(60, 64, 67, 0.15);\n",
              "    fill: var(--button-hover-fill-color);\n",
              "  }\n",
              "\n",
              "  .colab-df-quickchart-complete:disabled,\n",
              "  .colab-df-quickchart-complete:disabled:hover {\n",
              "    background-color: var(--disabled-bg-color);\n",
              "    fill: var(--disabled-fill-color);\n",
              "    box-shadow: none;\n",
              "  }\n",
              "\n",
              "  .colab-df-spinner {\n",
              "    border: 2px solid var(--fill-color);\n",
              "    border-color: transparent;\n",
              "    border-bottom-color: var(--fill-color);\n",
              "    animation:\n",
              "      spin 1s steps(1) infinite;\n",
              "  }\n",
              "\n",
              "  @keyframes spin {\n",
              "    0% {\n",
              "      border-color: transparent;\n",
              "      border-bottom-color: var(--fill-color);\n",
              "      border-left-color: var(--fill-color);\n",
              "    }\n",
              "    20% {\n",
              "      border-color: transparent;\n",
              "      border-left-color: var(--fill-color);\n",
              "      border-top-color: var(--fill-color);\n",
              "    }\n",
              "    30% {\n",
              "      border-color: transparent;\n",
              "      border-left-color: var(--fill-color);\n",
              "      border-top-color: var(--fill-color);\n",
              "      border-right-color: var(--fill-color);\n",
              "    }\n",
              "    40% {\n",
              "      border-color: transparent;\n",
              "      border-right-color: var(--fill-color);\n",
              "      border-top-color: var(--fill-color);\n",
              "    }\n",
              "    60% {\n",
              "      border-color: transparent;\n",
              "      border-right-color: var(--fill-color);\n",
              "    }\n",
              "    80% {\n",
              "      border-color: transparent;\n",
              "      border-right-color: var(--fill-color);\n",
              "      border-bottom-color: var(--fill-color);\n",
              "    }\n",
              "    90% {\n",
              "      border-color: transparent;\n",
              "      border-bottom-color: var(--fill-color);\n",
              "    }\n",
              "  }\n",
              "</style>\n",
              "\n",
              "  <script>\n",
              "    async function quickchart(key) {\n",
              "      const quickchartButtonEl =\n",
              "        document.querySelector('#' + key + ' button');\n",
              "      quickchartButtonEl.disabled = true;  // To prevent multiple clicks.\n",
              "      quickchartButtonEl.classList.add('colab-df-spinner');\n",
              "      try {\n",
              "        const charts = await google.colab.kernel.invokeFunction(\n",
              "            'suggestCharts', [key], {});\n",
              "      } catch (error) {\n",
              "        console.error('Error during call to suggestCharts:', error);\n",
              "      }\n",
              "      quickchartButtonEl.classList.remove('colab-df-spinner');\n",
              "      quickchartButtonEl.classList.add('colab-df-quickchart-complete');\n",
              "    }\n",
              "    (() => {\n",
              "      let quickchartButtonEl =\n",
              "        document.querySelector('#df-98906f64-fb38-4aca-b5b8-f8e6546e6fe8 button');\n",
              "      quickchartButtonEl.style.display =\n",
              "        google.colab.kernel.accessAllowed ? 'block' : 'none';\n",
              "    })();\n",
              "  </script>\n",
              "</div>\n",
              "\n",
              "    </div>\n",
              "  </div>\n"
            ],
            "application/vnd.google.colaboratory.intrinsic+json": {
              "type": "dataframe",
              "variable_name": "df",
              "summary": "{\n  \"name\": \"df\",\n  \"rows\": 15191,\n  \"fields\": [\n    {\n      \"column\": \"Post_Title\",\n      \"properties\": {\n        \"dtype\": \"category\",\n        \"num_unique_values\": 356,\n        \"samples\": [\n          \"I\\u2019m Going to War for Israel. Palestinians Are Not My Enemy\",\n          \"Israel warns Lebanon it could turn Beirut into Gaza\",\n          \"IDF accepts full responsibility for killing World Central Kitchen aid workers\"\n        ],\n        \"semantic_type\": \"\",\n        \"description\": \"\"\n      }\n    },\n    {\n      \"column\": \"Comment_Text\",\n      \"properties\": {\n        \"dtype\": \"string\",\n        \"num_unique_values\": 13985,\n        \"samples\": [\n          \"but the poor civilians living in the tunnels >.<   /s\",\n          \"What an idiot. It\\u2019s America after 9/11 all over again\",\n          \"The nasty IDF are perpetrating genocide against those poor defenceless tunnels. They are indiscriminately blowing them up.\"\n        ],\n        \"semantic_type\": \"\",\n        \"description\": \"\"\n      }\n    },\n    {\n      \"column\": \"Comment_Upvotes\",\n      \"properties\": {\n        \"dtype\": \"number\",\n        \"std\": 401.34579951503764,\n        \"min\": -472.0,\n        \"max\": 11048.0,\n        \"num_unique_values\": 959,\n        \"samples\": [\n          153.0,\n          215.0,\n          142.0\n        ],\n        \"semantic_type\": \"\",\n        \"description\": \"\"\n      }\n    },\n    {\n      \"column\": \"Comment_Created_Date\",\n      \"properties\": {\n        \"dtype\": \"object\",\n        \"num_unique_values\": 14066,\n        \"samples\": [\n          \"10/31/2023 19:18\",\n          \"2/6/2024 13:58\",\n          \"2/19/2024 7:13\"\n        ],\n        \"semantic_type\": \"\",\n        \"description\": \"\"\n      }\n    }\n  ]\n}"
            }
          },
          "metadata": {},
          "execution_count": 3
        }
      ]
    },
    {
      "cell_type": "code",
      "source": [
        "df.shape"
      ],
      "metadata": {
        "colab": {
          "base_uri": "https://localhost:8080/"
        },
        "id": "sFi6BR8LqKQ4",
        "outputId": "fd79a245-496b-40c4-f473-408c095d3b38"
      },
      "execution_count": 4,
      "outputs": [
        {
          "output_type": "execute_result",
          "data": {
            "text/plain": [
              "(15191, 4)"
            ]
          },
          "metadata": {},
          "execution_count": 4
        }
      ]
    },
    {
      "cell_type": "markdown",
      "source": [
        "## Task 2: Text Preprocessing and Tokenization\n"
      ],
      "metadata": {
        "id": "g3jwk1yBv2fQ"
      }
    },
    {
      "cell_type": "code",
      "source": [
        "import spacy\n",
        "import pandas as pd\n",
        "import numpy as np\n",
        "from nltk.stem import PorterStemmer\n",
        "from nltk.util import ngrams"
      ],
      "metadata": {
        "id": "X7lj8M-zee87"
      },
      "execution_count": 19,
      "outputs": []
    },
    {
      "cell_type": "code",
      "source": [
        "# Load SpaCy model\n",
        "nlp = spacy.load('en_core_web_sm')\n",
        "\n",
        "def preprocess_with_spacy(text):\n",
        "    if isinstance(text, str):  # Check if the input is a string\n",
        "        doc = nlp(text)  # Process text with SpaCy\n",
        "        tokens = [\n",
        "            token.lemma_  # Lemmatize each word\n",
        "            for token in doc\n",
        "            if not token.is_stop and token.is_alpha  # Remove stopwords and special characters\n",
        "        ]\n",
        "        return tokens  # Return tokens as a list\n",
        "    return []  # Return an empty list for missing or invalid input"
      ],
      "metadata": {
        "id": "B9YPolaxAoL_"
      },
      "execution_count": 28,
      "outputs": []
    },
    {
      "cell_type": "code",
      "source": [
        "# Apply preprocessing and tokenization\n",
        "df['Tokenized_Text'] = df['Comment_Text'].apply(preprocess_with_spacy)"
      ],
      "metadata": {
        "id": "HBeAy7bGfNjC"
      },
      "execution_count": 29,
      "outputs": []
    },
    {
      "cell_type": "code",
      "source": [
        "print(df[['Comment_Text', 'Tokenized_Text']].head())"
      ],
      "metadata": {
        "colab": {
          "base_uri": "https://localhost:8080/"
        },
        "id": "DLuHnYirS6Aw",
        "outputId": "5882e7de-8961-4341-f0fd-d8958d778903"
      },
      "execution_count": 30,
      "outputs": [
        {
          "output_type": "stream",
          "name": "stdout",
          "text": [
            "                                        Comment_Text  \\\n",
            "0  As per CNN\\n\\nIsraeli Prime Minister Benjamin ...   \n",
            "1  What’s the long game here?(3ish weeks) does Is...   \n",
            "2  Good job to U.S. diplomats for changing Isreal...   \n",
            "3  The US is in a crucial position to advance the...   \n",
            "4  Everybody hates the United States until it’s t...   \n",
            "\n",
            "                                      Tokenized_Text  \n",
            "0  [CNN, israeli, Prime, Minister, Benjamin, Neta...  \n",
            "1  [long, game, week, Israel, obliterate, norther...  \n",
            "2        [good, job, diplomat, change, Isreal, mind]  \n",
            "3  [crucial, position, advance, humanitarian, cor...  \n",
            "4  [everybody, hate, United, States, time, United...  \n"
          ]
        }
      ]
    },
    {
      "cell_type": "code",
      "source": [
        "print(\"Missing values in Preprocessed_Comment_Text:\", df['Tokenized_Text'].isnull().sum())"
      ],
      "metadata": {
        "colab": {
          "base_uri": "https://localhost:8080/"
        },
        "id": "bw39lUo9WyJb",
        "outputId": "f02699a9-f868-4ee9-b5f7-80b0102ef43c"
      },
      "execution_count": 31,
      "outputs": [
        {
          "output_type": "stream",
          "name": "stdout",
          "text": [
            "Missing values in Preprocessed_Comment_Text: 0\n"
          ]
        }
      ]
    },
    {
      "cell_type": "code",
      "source": [
        "print(df['Tokenized_Text'].dropna().head())"
      ],
      "metadata": {
        "colab": {
          "base_uri": "https://localhost:8080/"
        },
        "id": "dxmzet-2W_Cq",
        "outputId": "139f2caa-3153-4019-e856-140b45c107b5"
      },
      "execution_count": 32,
      "outputs": [
        {
          "output_type": "stream",
          "name": "stdout",
          "text": [
            "0    [CNN, israeli, Prime, Minister, Benjamin, Neta...\n",
            "1    [long, game, week, Israel, obliterate, norther...\n",
            "2          [good, job, diplomat, change, Isreal, mind]\n",
            "3    [crucial, position, advance, humanitarian, cor...\n",
            "4    [everybody, hate, United, States, time, United...\n",
            "Name: Tokenized_Text, dtype: object\n"
          ]
        }
      ]
    },
    {
      "cell_type": "code",
      "source": [
        "for i in range(5):  # Adjust range for more samples\n",
        "    original = df['Comment_Text'].iloc[i]\n",
        "    processed = df['Tokenized_Text'].iloc[i]\n",
        "    print(f\"Original: {original}\")\n",
        "    print(f\"Processed: {processed}\")\n",
        "    print(\"-----------\")"
      ],
      "metadata": {
        "colab": {
          "base_uri": "https://localhost:8080/"
        },
        "id": "c13lWKMTXCcL",
        "outputId": "3beb4898-e116-4f88-d5d8-65fbde87e091"
      },
      "execution_count": 33,
      "outputs": [
        {
          "output_type": "stream",
          "name": "stdout",
          "text": [
            "Original: As per CNN\n",
            "\n",
            "Israeli Prime Minister Benjamin Netanyahu’s office told CNN Sunday Israel has restored water to southern Gaza, but the director of the Palestinian Water Authority said he could not be sure it was true, because electricity has not been restored.\n",
            "\n",
            "“I cannot confirm this at the moment because our water stations in Khan Younis, Gaza City, and central Gaza are not in a condition to receive and distribute water to the people,” Munther Shublaq, the director of the Water Authority in Gaza, told CNN.\n",
            "“To enable the stations to receive and distribute water, we need electricity, which is currently cut off. The alternative is fuel to power the generator, which we also do not have. There may be pressure to restore the water supply, but I cannot confirm anything until the stations are ready.”\n",
            "Processed: ['CNN', 'israeli', 'Prime', 'Minister', 'Benjamin', 'Netanyahu', 'office', 'tell', 'CNN', 'Sunday', 'Israel', 'restore', 'water', 'southern', 'Gaza', 'director', 'Palestinian', 'Water', 'Authority', 'say', 'sure', 'true', 'electricity', 'restore', 'confirm', 'moment', 'water', 'station', 'Khan', 'Younis', 'Gaza', 'City', 'central', 'Gaza', 'condition', 'receive', 'distribute', 'water', 'people', 'Munther', 'Shublaq', 'director', 'Water', 'Authority', 'Gaza', 'tell', 'CNN', 'enable', 'station', 'receive', 'distribute', 'water', 'need', 'electricity', 'currently', 'cut', 'alternative', 'fuel', 'power', 'generator', 'pressure', 'restore', 'water', 'supply', 'confirm', 'station', 'ready']\n",
            "-----------\n",
            "Original: What’s the long game here?(3ish weeks) does Israel obliterate northern Gaza/Hamas, and then slowly invite/vet non-Hamas Palestinians back into northern Gaza so they can obliterate the south?\n",
            "Processed: ['long', 'game', 'week', 'Israel', 'obliterate', 'northern', 'Gaza', 'Hamas', 'slowly', 'invite', 'vet', 'non', 'hamas', 'Palestinians', 'northern', 'Gaza', 'obliterate', 'south']\n",
            "-----------\n",
            "Original: Good job to U.S. diplomats for changing Isreal's mind.\n",
            "Processed: ['good', 'job', 'diplomat', 'change', 'Isreal', 'mind']\n",
            "-----------\n",
            "Original: The US is in a crucial position to advance the humanitarian corridor to innocent Palestinians. You accept our taxpayer dollars then your government needs to comply with reasonable requests that do no endanger civilians at home or elsewhere.\n",
            "Processed: ['crucial', 'position', 'advance', 'humanitarian', 'corridor', 'innocent', 'Palestinians', 'accept', 'taxpayer', 'dollar', 'government', 'need', 'comply', 'reasonable', 'request', 'endanger', 'civilian', 'home']\n",
            "-----------\n",
            "Original: Everybody hates the United States until it’s time to do United States stuff\n",
            "Processed: ['everybody', 'hate', 'United', 'States', 'time', 'United', 'States', 'stuff']\n",
            "-----------\n"
          ]
        }
      ]
    },
    {
      "cell_type": "code",
      "source": [
        "# Intialize Stemmer\n",
        "Stemmer = PorterStemmer()"
      ],
      "metadata": {
        "id": "RTEBWYiKXIvl"
      },
      "execution_count": 34,
      "outputs": []
    },
    {
      "cell_type": "code",
      "source": [
        "def stem_with_nltk(tokens):\n",
        "    if isinstance(tokens, list):  # Ensure the input is a list\n",
        "        return [Stemmer.stem(token) for token in tokens]\n",
        "    return []  # Return an empty list for invalid input\n"
      ],
      "metadata": {
        "id": "fpgtWbgzyMo7"
      },
      "execution_count": 35,
      "outputs": []
    },
    {
      "cell_type": "code",
      "source": [
        "df['Stemmed_Text'] = df['Tokenized_Text'].apply(stem_with_nltk)"
      ],
      "metadata": {
        "id": "mMgzJaTMytXg"
      },
      "execution_count": 36,
      "outputs": []
    },
    {
      "cell_type": "code",
      "source": [
        "print(df[['Comment_Text', 'Tokenized_Text', 'Stemmed_Text']].head())"
      ],
      "metadata": {
        "colab": {
          "base_uri": "https://localhost:8080/"
        },
        "id": "ni7b7vMe7GXQ",
        "outputId": "151f9e2c-b475-4923-86df-a2e94be43b66"
      },
      "execution_count": 37,
      "outputs": [
        {
          "output_type": "stream",
          "name": "stdout",
          "text": [
            "                                        Comment_Text  \\\n",
            "0  As per CNN\\n\\nIsraeli Prime Minister Benjamin ...   \n",
            "1  What’s the long game here?(3ish weeks) does Is...   \n",
            "2  Good job to U.S. diplomats for changing Isreal...   \n",
            "3  The US is in a crucial position to advance the...   \n",
            "4  Everybody hates the United States until it’s t...   \n",
            "\n",
            "                                      Tokenized_Text  \\\n",
            "0  [CNN, israeli, Prime, Minister, Benjamin, Neta...   \n",
            "1  [long, game, week, Israel, obliterate, norther...   \n",
            "2        [good, job, diplomat, change, Isreal, mind]   \n",
            "3  [crucial, position, advance, humanitarian, cor...   \n",
            "4  [everybody, hate, United, States, time, United...   \n",
            "\n",
            "                                        Stemmed_Text  \n",
            "0  [cnn, isra, prime, minist, benjamin, netanyahu...  \n",
            "1  [long, game, week, israel, obliter, northern, ...  \n",
            "2         [good, job, diplomat, chang, isreal, mind]  \n",
            "3  [crucial, posit, advanc, humanitarian, corrido...  \n",
            "4  [everybodi, hate, unit, state, time, unit, sta...  \n"
          ]
        }
      ]
    },
    {
      "cell_type": "code",
      "source": [
        "# Generate n-grams\n",
        "def generate_ngrams(tokens, n):\n",
        "    return list(ngrams(tokens, n))\n",
        "\n",
        "df['Bigrams'] = df['Stemmed_Text'].apply(lambda tokens: generate_ngrams(tokens, 2))\n",
        "df['Trigrams'] = df['Stemmed_Text'].apply(lambda tokens: generate_ngrams(tokens, 3))"
      ],
      "metadata": {
        "id": "VVTVIITM7LPQ"
      },
      "execution_count": 39,
      "outputs": []
    },
    {
      "cell_type": "code",
      "source": [
        "# Display the original tokens and n-grams for verification\n",
        "for i in range(5):  # Adjust the range to inspect more rows\n",
        "    print(f\"Row {i + 1}:\")\n",
        "    print(f\"Original Tokens: {df['Stemmed_Text'].iloc[i]}\")\n",
        "    print(f\"Bigrams: {df['Bigrams'].iloc[i]}\")\n",
        "    print(f\"Trigrams: {df['Trigrams'].iloc[i]}\")\n",
        "    print(\"-\" * 50)\n"
      ],
      "metadata": {
        "colab": {
          "base_uri": "https://localhost:8080/"
        },
        "id": "7DxG_HnO7SdK",
        "outputId": "fc06eaf5-69f9-47ee-80e5-edcbd47f5ca2"
      },
      "execution_count": 40,
      "outputs": [
        {
          "output_type": "stream",
          "name": "stdout",
          "text": [
            "Row 1:\n",
            "Original Tokens: ['cnn', 'isra', 'prime', 'minist', 'benjamin', 'netanyahu', 'offic', 'tell', 'cnn', 'sunday', 'israel', 'restor', 'water', 'southern', 'gaza', 'director', 'palestinian', 'water', 'author', 'say', 'sure', 'true', 'electr', 'restor', 'confirm', 'moment', 'water', 'station', 'khan', 'youni', 'gaza', 'citi', 'central', 'gaza', 'condit', 'receiv', 'distribut', 'water', 'peopl', 'munther', 'shublaq', 'director', 'water', 'author', 'gaza', 'tell', 'cnn', 'enabl', 'station', 'receiv', 'distribut', 'water', 'need', 'electr', 'current', 'cut', 'altern', 'fuel', 'power', 'gener', 'pressur', 'restor', 'water', 'suppli', 'confirm', 'station', 'readi']\n",
            "Bigrams: [('cnn', 'isra'), ('isra', 'prime'), ('prime', 'minist'), ('minist', 'benjamin'), ('benjamin', 'netanyahu'), ('netanyahu', 'offic'), ('offic', 'tell'), ('tell', 'cnn'), ('cnn', 'sunday'), ('sunday', 'israel'), ('israel', 'restor'), ('restor', 'water'), ('water', 'southern'), ('southern', 'gaza'), ('gaza', 'director'), ('director', 'palestinian'), ('palestinian', 'water'), ('water', 'author'), ('author', 'say'), ('say', 'sure'), ('sure', 'true'), ('true', 'electr'), ('electr', 'restor'), ('restor', 'confirm'), ('confirm', 'moment'), ('moment', 'water'), ('water', 'station'), ('station', 'khan'), ('khan', 'youni'), ('youni', 'gaza'), ('gaza', 'citi'), ('citi', 'central'), ('central', 'gaza'), ('gaza', 'condit'), ('condit', 'receiv'), ('receiv', 'distribut'), ('distribut', 'water'), ('water', 'peopl'), ('peopl', 'munther'), ('munther', 'shublaq'), ('shublaq', 'director'), ('director', 'water'), ('water', 'author'), ('author', 'gaza'), ('gaza', 'tell'), ('tell', 'cnn'), ('cnn', 'enabl'), ('enabl', 'station'), ('station', 'receiv'), ('receiv', 'distribut'), ('distribut', 'water'), ('water', 'need'), ('need', 'electr'), ('electr', 'current'), ('current', 'cut'), ('cut', 'altern'), ('altern', 'fuel'), ('fuel', 'power'), ('power', 'gener'), ('gener', 'pressur'), ('pressur', 'restor'), ('restor', 'water'), ('water', 'suppli'), ('suppli', 'confirm'), ('confirm', 'station'), ('station', 'readi')]\n",
            "Trigrams: [('cnn', 'isra', 'prime'), ('isra', 'prime', 'minist'), ('prime', 'minist', 'benjamin'), ('minist', 'benjamin', 'netanyahu'), ('benjamin', 'netanyahu', 'offic'), ('netanyahu', 'offic', 'tell'), ('offic', 'tell', 'cnn'), ('tell', 'cnn', 'sunday'), ('cnn', 'sunday', 'israel'), ('sunday', 'israel', 'restor'), ('israel', 'restor', 'water'), ('restor', 'water', 'southern'), ('water', 'southern', 'gaza'), ('southern', 'gaza', 'director'), ('gaza', 'director', 'palestinian'), ('director', 'palestinian', 'water'), ('palestinian', 'water', 'author'), ('water', 'author', 'say'), ('author', 'say', 'sure'), ('say', 'sure', 'true'), ('sure', 'true', 'electr'), ('true', 'electr', 'restor'), ('electr', 'restor', 'confirm'), ('restor', 'confirm', 'moment'), ('confirm', 'moment', 'water'), ('moment', 'water', 'station'), ('water', 'station', 'khan'), ('station', 'khan', 'youni'), ('khan', 'youni', 'gaza'), ('youni', 'gaza', 'citi'), ('gaza', 'citi', 'central'), ('citi', 'central', 'gaza'), ('central', 'gaza', 'condit'), ('gaza', 'condit', 'receiv'), ('condit', 'receiv', 'distribut'), ('receiv', 'distribut', 'water'), ('distribut', 'water', 'peopl'), ('water', 'peopl', 'munther'), ('peopl', 'munther', 'shublaq'), ('munther', 'shublaq', 'director'), ('shublaq', 'director', 'water'), ('director', 'water', 'author'), ('water', 'author', 'gaza'), ('author', 'gaza', 'tell'), ('gaza', 'tell', 'cnn'), ('tell', 'cnn', 'enabl'), ('cnn', 'enabl', 'station'), ('enabl', 'station', 'receiv'), ('station', 'receiv', 'distribut'), ('receiv', 'distribut', 'water'), ('distribut', 'water', 'need'), ('water', 'need', 'electr'), ('need', 'electr', 'current'), ('electr', 'current', 'cut'), ('current', 'cut', 'altern'), ('cut', 'altern', 'fuel'), ('altern', 'fuel', 'power'), ('fuel', 'power', 'gener'), ('power', 'gener', 'pressur'), ('gener', 'pressur', 'restor'), ('pressur', 'restor', 'water'), ('restor', 'water', 'suppli'), ('water', 'suppli', 'confirm'), ('suppli', 'confirm', 'station'), ('confirm', 'station', 'readi')]\n",
            "--------------------------------------------------\n",
            "Row 2:\n",
            "Original Tokens: ['long', 'game', 'week', 'israel', 'obliter', 'northern', 'gaza', 'hama', 'slowli', 'invit', 'vet', 'non', 'hama', 'palestinian', 'northern', 'gaza', 'obliter', 'south']\n",
            "Bigrams: [('long', 'game'), ('game', 'week'), ('week', 'israel'), ('israel', 'obliter'), ('obliter', 'northern'), ('northern', 'gaza'), ('gaza', 'hama'), ('hama', 'slowli'), ('slowli', 'invit'), ('invit', 'vet'), ('vet', 'non'), ('non', 'hama'), ('hama', 'palestinian'), ('palestinian', 'northern'), ('northern', 'gaza'), ('gaza', 'obliter'), ('obliter', 'south')]\n",
            "Trigrams: [('long', 'game', 'week'), ('game', 'week', 'israel'), ('week', 'israel', 'obliter'), ('israel', 'obliter', 'northern'), ('obliter', 'northern', 'gaza'), ('northern', 'gaza', 'hama'), ('gaza', 'hama', 'slowli'), ('hama', 'slowli', 'invit'), ('slowli', 'invit', 'vet'), ('invit', 'vet', 'non'), ('vet', 'non', 'hama'), ('non', 'hama', 'palestinian'), ('hama', 'palestinian', 'northern'), ('palestinian', 'northern', 'gaza'), ('northern', 'gaza', 'obliter'), ('gaza', 'obliter', 'south')]\n",
            "--------------------------------------------------\n",
            "Row 3:\n",
            "Original Tokens: ['good', 'job', 'diplomat', 'chang', 'isreal', 'mind']\n",
            "Bigrams: [('good', 'job'), ('job', 'diplomat'), ('diplomat', 'chang'), ('chang', 'isreal'), ('isreal', 'mind')]\n",
            "Trigrams: [('good', 'job', 'diplomat'), ('job', 'diplomat', 'chang'), ('diplomat', 'chang', 'isreal'), ('chang', 'isreal', 'mind')]\n",
            "--------------------------------------------------\n",
            "Row 4:\n",
            "Original Tokens: ['crucial', 'posit', 'advanc', 'humanitarian', 'corridor', 'innoc', 'palestinian', 'accept', 'taxpay', 'dollar', 'govern', 'need', 'compli', 'reason', 'request', 'endang', 'civilian', 'home']\n",
            "Bigrams: [('crucial', 'posit'), ('posit', 'advanc'), ('advanc', 'humanitarian'), ('humanitarian', 'corridor'), ('corridor', 'innoc'), ('innoc', 'palestinian'), ('palestinian', 'accept'), ('accept', 'taxpay'), ('taxpay', 'dollar'), ('dollar', 'govern'), ('govern', 'need'), ('need', 'compli'), ('compli', 'reason'), ('reason', 'request'), ('request', 'endang'), ('endang', 'civilian'), ('civilian', 'home')]\n",
            "Trigrams: [('crucial', 'posit', 'advanc'), ('posit', 'advanc', 'humanitarian'), ('advanc', 'humanitarian', 'corridor'), ('humanitarian', 'corridor', 'innoc'), ('corridor', 'innoc', 'palestinian'), ('innoc', 'palestinian', 'accept'), ('palestinian', 'accept', 'taxpay'), ('accept', 'taxpay', 'dollar'), ('taxpay', 'dollar', 'govern'), ('dollar', 'govern', 'need'), ('govern', 'need', 'compli'), ('need', 'compli', 'reason'), ('compli', 'reason', 'request'), ('reason', 'request', 'endang'), ('request', 'endang', 'civilian'), ('endang', 'civilian', 'home')]\n",
            "--------------------------------------------------\n",
            "Row 5:\n",
            "Original Tokens: ['everybodi', 'hate', 'unit', 'state', 'time', 'unit', 'state', 'stuff']\n",
            "Bigrams: [('everybodi', 'hate'), ('hate', 'unit'), ('unit', 'state'), ('state', 'time'), ('time', 'unit'), ('unit', 'state'), ('state', 'stuff')]\n",
            "Trigrams: [('everybodi', 'hate', 'unit'), ('hate', 'unit', 'state'), ('unit', 'state', 'time'), ('state', 'time', 'unit'), ('time', 'unit', 'state'), ('unit', 'state', 'stuff')]\n",
            "--------------------------------------------------\n"
          ]
        }
      ]
    },
    {
      "cell_type": "code",
      "source": [
        "print(df[['Stemmed_Text', 'Bigrams', 'Trigrams']].head())"
      ],
      "metadata": {
        "colab": {
          "base_uri": "https://localhost:8080/"
        },
        "id": "UG9xz0Np-0K5",
        "outputId": "4e178991-94f1-4dd4-c733-2e9207c5a7e0"
      },
      "execution_count": 41,
      "outputs": [
        {
          "output_type": "stream",
          "name": "stdout",
          "text": [
            "                                        Stemmed_Text  \\\n",
            "0  [cnn, isra, prime, minist, benjamin, netanyahu...   \n",
            "1  [long, game, week, israel, obliter, northern, ...   \n",
            "2         [good, job, diplomat, chang, isreal, mind]   \n",
            "3  [crucial, posit, advanc, humanitarian, corrido...   \n",
            "4  [everybodi, hate, unit, state, time, unit, sta...   \n",
            "\n",
            "                                             Bigrams  \\\n",
            "0  [(cnn, isra), (isra, prime), (prime, minist), ...   \n",
            "1  [(long, game), (game, week), (week, israel), (...   \n",
            "2  [(good, job), (job, diplomat), (diplomat, chan...   \n",
            "3  [(crucial, posit), (posit, advanc), (advanc, h...   \n",
            "4  [(everybodi, hate), (hate, unit), (unit, state...   \n",
            "\n",
            "                                            Trigrams  \n",
            "0  [(cnn, isra, prime), (isra, prime, minist), (p...  \n",
            "1  [(long, game, week), (game, week, israel), (we...  \n",
            "2  [(good, job, diplomat), (job, diplomat, chang)...  \n",
            "3  [(crucial, posit, advanc), (posit, advanc, hum...  \n",
            "4  [(everybodi, hate, unit), (hate, unit, state),...  \n"
          ]
        }
      ]
    },
    {
      "cell_type": "code",
      "source": [
        "# Convert n-grams to readable strings for easier verification\n",
        "df['Readable_Bigrams'] = df['Bigrams'].apply(lambda bigrams: [' '.join(bigram) for bigram in bigrams])\n",
        "df['Readable_Trigrams'] = df['Trigrams'].apply(lambda trigrams: [' '.join(trigram) for trigram in trigrams])\n",
        "\n",
        "# Display the readable n-grams\n",
        "print(df[['Stemmed_Text', 'Readable_Bigrams', 'Readable_Trigrams']].head())"
      ],
      "metadata": {
        "colab": {
          "base_uri": "https://localhost:8080/"
        },
        "id": "vRAkZyoq_Dgq",
        "outputId": "d9b3484d-685f-4532-dac6-41a8604ccc73"
      },
      "execution_count": 42,
      "outputs": [
        {
          "output_type": "stream",
          "name": "stdout",
          "text": [
            "                                        Stemmed_Text  \\\n",
            "0  [cnn, isra, prime, minist, benjamin, netanyahu...   \n",
            "1  [long, game, week, israel, obliter, northern, ...   \n",
            "2         [good, job, diplomat, chang, isreal, mind]   \n",
            "3  [crucial, posit, advanc, humanitarian, corrido...   \n",
            "4  [everybodi, hate, unit, state, time, unit, sta...   \n",
            "\n",
            "                                    Readable_Bigrams  \\\n",
            "0  [cnn isra, isra prime, prime minist, minist be...   \n",
            "1  [long game, game week, week israel, israel obl...   \n",
            "2  [good job, job diplomat, diplomat chang, chang...   \n",
            "3  [crucial posit, posit advanc, advanc humanitar...   \n",
            "4  [everybodi hate, hate unit, unit state, state ...   \n",
            "\n",
            "                                   Readable_Trigrams  \n",
            "0  [cnn isra prime, isra prime minist, prime mini...  \n",
            "1  [long game week, game week israel, week israel...  \n",
            "2  [good job diplomat, job diplomat chang, diplom...  \n",
            "3  [crucial posit advanc, posit advanc humanitari...  \n",
            "4  [everybodi hate unit, hate unit state, unit st...  \n"
          ]
        }
      ]
    },
    {
      "cell_type": "markdown",
      "source": [
        "After using stemming some words important parts are dropped. Therefore , I am going to use lemmatization now."
      ],
      "metadata": {
        "id": "96uQK-AAC-k6"
      }
    },
    {
      "cell_type": "code",
      "source": [
        "def preprocess_with_spacy(text):\n",
        "    if isinstance(text, str):\n",
        "        doc = nlp(text)\n",
        "        tokens = [\n",
        "            token.lemma_  # Use SpaCy's lemmatization\n",
        "            for token in doc\n",
        "            if not token.is_stop and token.is_alpha  # Remove stopwords and punctuation\n",
        "        ]\n",
        "        return tokens  # Return a list of lemmatized tokens\n",
        "    return []"
      ],
      "metadata": {
        "id": "TM6WvVbk_MdM"
      },
      "execution_count": 43,
      "outputs": []
    },
    {
      "cell_type": "code",
      "source": [
        "# Apply preprocessing and tokenization\n",
        "df['Tokenized_Text'] = df['Comment_Text'].apply(preprocess_with_spacy)"
      ],
      "metadata": {
        "id": "LztdzkP7Cegm"
      },
      "execution_count": 44,
      "outputs": []
    },
    {
      "cell_type": "code",
      "source": [
        "print(df[['Comment_Text', 'Tokenized_Text']].head())"
      ],
      "metadata": {
        "colab": {
          "base_uri": "https://localhost:8080/"
        },
        "id": "xVcxJTFECr1M",
        "outputId": "3c896797-9347-42cd-f272-637760d675b5"
      },
      "execution_count": 45,
      "outputs": [
        {
          "output_type": "stream",
          "name": "stdout",
          "text": [
            "                                        Comment_Text  \\\n",
            "0  As per CNN\\n\\nIsraeli Prime Minister Benjamin ...   \n",
            "1  What’s the long game here?(3ish weeks) does Is...   \n",
            "2  Good job to U.S. diplomats for changing Isreal...   \n",
            "3  The US is in a crucial position to advance the...   \n",
            "4  Everybody hates the United States until it’s t...   \n",
            "\n",
            "                                      Tokenized_Text  \n",
            "0  [CNN, israeli, Prime, Minister, Benjamin, Neta...  \n",
            "1  [long, game, week, Israel, obliterate, norther...  \n",
            "2        [good, job, diplomat, change, Isreal, mind]  \n",
            "3  [crucial, position, advance, humanitarian, cor...  \n",
            "4  [everybody, hate, United, States, time, United...  \n"
          ]
        }
      ]
    },
    {
      "cell_type": "code",
      "source": [
        "print(\"Missing values in Preprocessed_Comment_Text:\", df['Tokenized_Text'].isnull().sum())"
      ],
      "metadata": {
        "colab": {
          "base_uri": "https://localhost:8080/"
        },
        "id": "eSbpvfb0D7lH",
        "outputId": "3e2b1c64-ac5f-408a-b829-a022c018b585"
      },
      "execution_count": 46,
      "outputs": [
        {
          "output_type": "stream",
          "name": "stdout",
          "text": [
            "Missing values in Preprocessed_Comment_Text: 0\n"
          ]
        }
      ]
    },
    {
      "cell_type": "code",
      "source": [
        "print(df['Tokenized_Text'].dropna().head())"
      ],
      "metadata": {
        "colab": {
          "base_uri": "https://localhost:8080/"
        },
        "id": "fP718BCcECQQ",
        "outputId": "42af284c-2322-41f5-a2a0-2429fba88eff"
      },
      "execution_count": 47,
      "outputs": [
        {
          "output_type": "stream",
          "name": "stdout",
          "text": [
            "0    [CNN, israeli, Prime, Minister, Benjamin, Neta...\n",
            "1    [long, game, week, Israel, obliterate, norther...\n",
            "2          [good, job, diplomat, change, Isreal, mind]\n",
            "3    [crucial, position, advance, humanitarian, cor...\n",
            "4    [everybody, hate, United, States, time, United...\n",
            "Name: Tokenized_Text, dtype: object\n"
          ]
        }
      ]
    },
    {
      "cell_type": "code",
      "source": [
        "for i in range(5):  # Adjust range for more samples\n",
        "    original = df['Comment_Text'].iloc[i]\n",
        "    processed = df['Tokenized_Text'].iloc[i]\n",
        "    print(f\"Original: {original}\")\n",
        "    print(f\"Processed: {processed}\")\n",
        "    print(\"-----------\")"
      ],
      "metadata": {
        "colab": {
          "base_uri": "https://localhost:8080/"
        },
        "id": "swmRHuwlEHOQ",
        "outputId": "be8d382f-c60e-4f74-a786-ae83d5bbba66"
      },
      "execution_count": 48,
      "outputs": [
        {
          "output_type": "stream",
          "name": "stdout",
          "text": [
            "Original: As per CNN\n",
            "\n",
            "Israeli Prime Minister Benjamin Netanyahu’s office told CNN Sunday Israel has restored water to southern Gaza, but the director of the Palestinian Water Authority said he could not be sure it was true, because electricity has not been restored.\n",
            "\n",
            "“I cannot confirm this at the moment because our water stations in Khan Younis, Gaza City, and central Gaza are not in a condition to receive and distribute water to the people,” Munther Shublaq, the director of the Water Authority in Gaza, told CNN.\n",
            "“To enable the stations to receive and distribute water, we need electricity, which is currently cut off. The alternative is fuel to power the generator, which we also do not have. There may be pressure to restore the water supply, but I cannot confirm anything until the stations are ready.”\n",
            "Processed: ['CNN', 'israeli', 'Prime', 'Minister', 'Benjamin', 'Netanyahu', 'office', 'tell', 'CNN', 'Sunday', 'Israel', 'restore', 'water', 'southern', 'Gaza', 'director', 'Palestinian', 'Water', 'Authority', 'say', 'sure', 'true', 'electricity', 'restore', 'confirm', 'moment', 'water', 'station', 'Khan', 'Younis', 'Gaza', 'City', 'central', 'Gaza', 'condition', 'receive', 'distribute', 'water', 'people', 'Munther', 'Shublaq', 'director', 'Water', 'Authority', 'Gaza', 'tell', 'CNN', 'enable', 'station', 'receive', 'distribute', 'water', 'need', 'electricity', 'currently', 'cut', 'alternative', 'fuel', 'power', 'generator', 'pressure', 'restore', 'water', 'supply', 'confirm', 'station', 'ready']\n",
            "-----------\n",
            "Original: What’s the long game here?(3ish weeks) does Israel obliterate northern Gaza/Hamas, and then slowly invite/vet non-Hamas Palestinians back into northern Gaza so they can obliterate the south?\n",
            "Processed: ['long', 'game', 'week', 'Israel', 'obliterate', 'northern', 'Gaza', 'Hamas', 'slowly', 'invite', 'vet', 'non', 'hamas', 'Palestinians', 'northern', 'Gaza', 'obliterate', 'south']\n",
            "-----------\n",
            "Original: Good job to U.S. diplomats for changing Isreal's mind.\n",
            "Processed: ['good', 'job', 'diplomat', 'change', 'Isreal', 'mind']\n",
            "-----------\n",
            "Original: The US is in a crucial position to advance the humanitarian corridor to innocent Palestinians. You accept our taxpayer dollars then your government needs to comply with reasonable requests that do no endanger civilians at home or elsewhere.\n",
            "Processed: ['crucial', 'position', 'advance', 'humanitarian', 'corridor', 'innocent', 'Palestinians', 'accept', 'taxpayer', 'dollar', 'government', 'need', 'comply', 'reasonable', 'request', 'endanger', 'civilian', 'home']\n",
            "-----------\n",
            "Original: Everybody hates the United States until it’s time to do United States stuff\n",
            "Processed: ['everybody', 'hate', 'United', 'States', 'time', 'United', 'States', 'stuff']\n",
            "-----------\n"
          ]
        }
      ]
    },
    {
      "cell_type": "code",
      "source": [
        "# Generate n-grams\n",
        "df['Bigrams'] = df['Tokenized_Text'].apply(lambda tokens: generate_ngrams(tokens, 2))\n",
        "df['Trigrams'] = df['Tokenized_Text'].apply(lambda tokens: generate_ngrams(tokens, 3))"
      ],
      "metadata": {
        "id": "7HrOscbgEOEZ"
      },
      "execution_count": 49,
      "outputs": []
    },
    {
      "cell_type": "code",
      "source": [
        "# Display the original tokens and n-grams for verification\n",
        "for i in range(5):  # Adjust the range to inspect more rows\n",
        "    print(f\"Row {i + 1}:\")\n",
        "    print(f\"Original Tokens: {df['Tokenized_Text'].iloc[i]}\")\n",
        "    print(f\"Bigrams: {df['Bigrams'].iloc[i]}\")\n",
        "    print(f\"Trigrams: {df['Trigrams'].iloc[i]}\")\n",
        "    print(\"-\" * 50)\n"
      ],
      "metadata": {
        "colab": {
          "base_uri": "https://localhost:8080/"
        },
        "id": "He6wvVjREXfJ",
        "outputId": "d4c509a4-cbe3-4b5f-812a-6e31af098868"
      },
      "execution_count": 52,
      "outputs": [
        {
          "output_type": "stream",
          "name": "stdout",
          "text": [
            "Row 1:\n",
            "Original Tokens: ['CNN', 'israeli', 'Prime', 'Minister', 'Benjamin', 'Netanyahu', 'office', 'tell', 'CNN', 'Sunday', 'Israel', 'restore', 'water', 'southern', 'Gaza', 'director', 'Palestinian', 'Water', 'Authority', 'say', 'sure', 'true', 'electricity', 'restore', 'confirm', 'moment', 'water', 'station', 'Khan', 'Younis', 'Gaza', 'City', 'central', 'Gaza', 'condition', 'receive', 'distribute', 'water', 'people', 'Munther', 'Shublaq', 'director', 'Water', 'Authority', 'Gaza', 'tell', 'CNN', 'enable', 'station', 'receive', 'distribute', 'water', 'need', 'electricity', 'currently', 'cut', 'alternative', 'fuel', 'power', 'generator', 'pressure', 'restore', 'water', 'supply', 'confirm', 'station', 'ready']\n",
            "Bigrams: [('CNN', 'israeli'), ('israeli', 'Prime'), ('Prime', 'Minister'), ('Minister', 'Benjamin'), ('Benjamin', 'Netanyahu'), ('Netanyahu', 'office'), ('office', 'tell'), ('tell', 'CNN'), ('CNN', 'Sunday'), ('Sunday', 'Israel'), ('Israel', 'restore'), ('restore', 'water'), ('water', 'southern'), ('southern', 'Gaza'), ('Gaza', 'director'), ('director', 'Palestinian'), ('Palestinian', 'Water'), ('Water', 'Authority'), ('Authority', 'say'), ('say', 'sure'), ('sure', 'true'), ('true', 'electricity'), ('electricity', 'restore'), ('restore', 'confirm'), ('confirm', 'moment'), ('moment', 'water'), ('water', 'station'), ('station', 'Khan'), ('Khan', 'Younis'), ('Younis', 'Gaza'), ('Gaza', 'City'), ('City', 'central'), ('central', 'Gaza'), ('Gaza', 'condition'), ('condition', 'receive'), ('receive', 'distribute'), ('distribute', 'water'), ('water', 'people'), ('people', 'Munther'), ('Munther', 'Shublaq'), ('Shublaq', 'director'), ('director', 'Water'), ('Water', 'Authority'), ('Authority', 'Gaza'), ('Gaza', 'tell'), ('tell', 'CNN'), ('CNN', 'enable'), ('enable', 'station'), ('station', 'receive'), ('receive', 'distribute'), ('distribute', 'water'), ('water', 'need'), ('need', 'electricity'), ('electricity', 'currently'), ('currently', 'cut'), ('cut', 'alternative'), ('alternative', 'fuel'), ('fuel', 'power'), ('power', 'generator'), ('generator', 'pressure'), ('pressure', 'restore'), ('restore', 'water'), ('water', 'supply'), ('supply', 'confirm'), ('confirm', 'station'), ('station', 'ready')]\n",
            "Trigrams: [('CNN', 'israeli', 'Prime'), ('israeli', 'Prime', 'Minister'), ('Prime', 'Minister', 'Benjamin'), ('Minister', 'Benjamin', 'Netanyahu'), ('Benjamin', 'Netanyahu', 'office'), ('Netanyahu', 'office', 'tell'), ('office', 'tell', 'CNN'), ('tell', 'CNN', 'Sunday'), ('CNN', 'Sunday', 'Israel'), ('Sunday', 'Israel', 'restore'), ('Israel', 'restore', 'water'), ('restore', 'water', 'southern'), ('water', 'southern', 'Gaza'), ('southern', 'Gaza', 'director'), ('Gaza', 'director', 'Palestinian'), ('director', 'Palestinian', 'Water'), ('Palestinian', 'Water', 'Authority'), ('Water', 'Authority', 'say'), ('Authority', 'say', 'sure'), ('say', 'sure', 'true'), ('sure', 'true', 'electricity'), ('true', 'electricity', 'restore'), ('electricity', 'restore', 'confirm'), ('restore', 'confirm', 'moment'), ('confirm', 'moment', 'water'), ('moment', 'water', 'station'), ('water', 'station', 'Khan'), ('station', 'Khan', 'Younis'), ('Khan', 'Younis', 'Gaza'), ('Younis', 'Gaza', 'City'), ('Gaza', 'City', 'central'), ('City', 'central', 'Gaza'), ('central', 'Gaza', 'condition'), ('Gaza', 'condition', 'receive'), ('condition', 'receive', 'distribute'), ('receive', 'distribute', 'water'), ('distribute', 'water', 'people'), ('water', 'people', 'Munther'), ('people', 'Munther', 'Shublaq'), ('Munther', 'Shublaq', 'director'), ('Shublaq', 'director', 'Water'), ('director', 'Water', 'Authority'), ('Water', 'Authority', 'Gaza'), ('Authority', 'Gaza', 'tell'), ('Gaza', 'tell', 'CNN'), ('tell', 'CNN', 'enable'), ('CNN', 'enable', 'station'), ('enable', 'station', 'receive'), ('station', 'receive', 'distribute'), ('receive', 'distribute', 'water'), ('distribute', 'water', 'need'), ('water', 'need', 'electricity'), ('need', 'electricity', 'currently'), ('electricity', 'currently', 'cut'), ('currently', 'cut', 'alternative'), ('cut', 'alternative', 'fuel'), ('alternative', 'fuel', 'power'), ('fuel', 'power', 'generator'), ('power', 'generator', 'pressure'), ('generator', 'pressure', 'restore'), ('pressure', 'restore', 'water'), ('restore', 'water', 'supply'), ('water', 'supply', 'confirm'), ('supply', 'confirm', 'station'), ('confirm', 'station', 'ready')]\n",
            "--------------------------------------------------\n",
            "Row 2:\n",
            "Original Tokens: ['long', 'game', 'week', 'Israel', 'obliterate', 'northern', 'Gaza', 'Hamas', 'slowly', 'invite', 'vet', 'non', 'hamas', 'Palestinians', 'northern', 'Gaza', 'obliterate', 'south']\n",
            "Bigrams: [('long', 'game'), ('game', 'week'), ('week', 'Israel'), ('Israel', 'obliterate'), ('obliterate', 'northern'), ('northern', 'Gaza'), ('Gaza', 'Hamas'), ('Hamas', 'slowly'), ('slowly', 'invite'), ('invite', 'vet'), ('vet', 'non'), ('non', 'hamas'), ('hamas', 'Palestinians'), ('Palestinians', 'northern'), ('northern', 'Gaza'), ('Gaza', 'obliterate'), ('obliterate', 'south')]\n",
            "Trigrams: [('long', 'game', 'week'), ('game', 'week', 'Israel'), ('week', 'Israel', 'obliterate'), ('Israel', 'obliterate', 'northern'), ('obliterate', 'northern', 'Gaza'), ('northern', 'Gaza', 'Hamas'), ('Gaza', 'Hamas', 'slowly'), ('Hamas', 'slowly', 'invite'), ('slowly', 'invite', 'vet'), ('invite', 'vet', 'non'), ('vet', 'non', 'hamas'), ('non', 'hamas', 'Palestinians'), ('hamas', 'Palestinians', 'northern'), ('Palestinians', 'northern', 'Gaza'), ('northern', 'Gaza', 'obliterate'), ('Gaza', 'obliterate', 'south')]\n",
            "--------------------------------------------------\n",
            "Row 3:\n",
            "Original Tokens: ['good', 'job', 'diplomat', 'change', 'Isreal', 'mind']\n",
            "Bigrams: [('good', 'job'), ('job', 'diplomat'), ('diplomat', 'change'), ('change', 'Isreal'), ('Isreal', 'mind')]\n",
            "Trigrams: [('good', 'job', 'diplomat'), ('job', 'diplomat', 'change'), ('diplomat', 'change', 'Isreal'), ('change', 'Isreal', 'mind')]\n",
            "--------------------------------------------------\n",
            "Row 4:\n",
            "Original Tokens: ['crucial', 'position', 'advance', 'humanitarian', 'corridor', 'innocent', 'Palestinians', 'accept', 'taxpayer', 'dollar', 'government', 'need', 'comply', 'reasonable', 'request', 'endanger', 'civilian', 'home']\n",
            "Bigrams: [('crucial', 'position'), ('position', 'advance'), ('advance', 'humanitarian'), ('humanitarian', 'corridor'), ('corridor', 'innocent'), ('innocent', 'Palestinians'), ('Palestinians', 'accept'), ('accept', 'taxpayer'), ('taxpayer', 'dollar'), ('dollar', 'government'), ('government', 'need'), ('need', 'comply'), ('comply', 'reasonable'), ('reasonable', 'request'), ('request', 'endanger'), ('endanger', 'civilian'), ('civilian', 'home')]\n",
            "Trigrams: [('crucial', 'position', 'advance'), ('position', 'advance', 'humanitarian'), ('advance', 'humanitarian', 'corridor'), ('humanitarian', 'corridor', 'innocent'), ('corridor', 'innocent', 'Palestinians'), ('innocent', 'Palestinians', 'accept'), ('Palestinians', 'accept', 'taxpayer'), ('accept', 'taxpayer', 'dollar'), ('taxpayer', 'dollar', 'government'), ('dollar', 'government', 'need'), ('government', 'need', 'comply'), ('need', 'comply', 'reasonable'), ('comply', 'reasonable', 'request'), ('reasonable', 'request', 'endanger'), ('request', 'endanger', 'civilian'), ('endanger', 'civilian', 'home')]\n",
            "--------------------------------------------------\n",
            "Row 5:\n",
            "Original Tokens: ['everybody', 'hate', 'United', 'States', 'time', 'United', 'States', 'stuff']\n",
            "Bigrams: [('everybody', 'hate'), ('hate', 'United'), ('United', 'States'), ('States', 'time'), ('time', 'United'), ('United', 'States'), ('States', 'stuff')]\n",
            "Trigrams: [('everybody', 'hate', 'United'), ('hate', 'United', 'States'), ('United', 'States', 'time'), ('States', 'time', 'United'), ('time', 'United', 'States'), ('United', 'States', 'stuff')]\n",
            "--------------------------------------------------\n"
          ]
        }
      ]
    },
    {
      "cell_type": "code",
      "source": [
        "print(df[['Tokenized_Text', 'Bigrams', 'Trigrams']].head())"
      ],
      "metadata": {
        "colab": {
          "base_uri": "https://localhost:8080/"
        },
        "id": "r_ZWpcW0Ef3j",
        "outputId": "375d65e6-bd1b-4ed3-c5cd-1560bac6a255"
      },
      "execution_count": 53,
      "outputs": [
        {
          "output_type": "stream",
          "name": "stdout",
          "text": [
            "                                      Tokenized_Text  \\\n",
            "0  [CNN, israeli, Prime, Minister, Benjamin, Neta...   \n",
            "1  [long, game, week, Israel, obliterate, norther...   \n",
            "2        [good, job, diplomat, change, Isreal, mind]   \n",
            "3  [crucial, position, advance, humanitarian, cor...   \n",
            "4  [everybody, hate, United, States, time, United...   \n",
            "\n",
            "                                             Bigrams  \\\n",
            "0  [(CNN, israeli), (israeli, Prime), (Prime, Min...   \n",
            "1  [(long, game), (game, week), (week, Israel), (...   \n",
            "2  [(good, job), (job, diplomat), (diplomat, chan...   \n",
            "3  [(crucial, position), (position, advance), (ad...   \n",
            "4  [(everybody, hate), (hate, United), (United, S...   \n",
            "\n",
            "                                            Trigrams  \n",
            "0  [(CNN, israeli, Prime), (israeli, Prime, Minis...  \n",
            "1  [(long, game, week), (game, week, Israel), (we...  \n",
            "2  [(good, job, diplomat), (job, diplomat, change...  \n",
            "3  [(crucial, position, advance), (position, adva...  \n",
            "4  [(everybody, hate, United), (hate, United, Sta...  \n"
          ]
        }
      ]
    },
    {
      "cell_type": "code",
      "source": [
        "# Convert n-grams to readable strings for easier verification\n",
        "df['Readable_Bigrams'] = df['Bigrams'].apply(lambda bigrams: [' '.join(bigram) for bigram in bigrams])\n",
        "df['Readable_Trigrams'] = df['Trigrams'].apply(lambda trigrams: [' '.join(trigram) for trigram in trigrams])\n",
        "\n",
        "# Display the readable n-grams\n",
        "print(df[['Tokenized_Text', 'Readable_Bigrams', 'Readable_Trigrams']].head())"
      ],
      "metadata": {
        "colab": {
          "base_uri": "https://localhost:8080/"
        },
        "id": "16Qw9xbXErCL",
        "outputId": "3bb860f4-c814-412c-c48b-de0af59e763f"
      },
      "execution_count": 54,
      "outputs": [
        {
          "output_type": "stream",
          "name": "stdout",
          "text": [
            "                                      Tokenized_Text  \\\n",
            "0  [CNN, israeli, Prime, Minister, Benjamin, Neta...   \n",
            "1  [long, game, week, Israel, obliterate, norther...   \n",
            "2        [good, job, diplomat, change, Isreal, mind]   \n",
            "3  [crucial, position, advance, humanitarian, cor...   \n",
            "4  [everybody, hate, United, States, time, United...   \n",
            "\n",
            "                                    Readable_Bigrams  \\\n",
            "0  [CNN israeli, israeli Prime, Prime Minister, M...   \n",
            "1  [long game, game week, week Israel, Israel obl...   \n",
            "2  [good job, job diplomat, diplomat change, chan...   \n",
            "3  [crucial position, position advance, advance h...   \n",
            "4  [everybody hate, hate United, United States, S...   \n",
            "\n",
            "                                   Readable_Trigrams  \n",
            "0  [CNN israeli Prime, israeli Prime Minister, Pr...  \n",
            "1  [long game week, game week Israel, week Israel...  \n",
            "2  [good job diplomat, job diplomat change, diplo...  \n",
            "3  [crucial position advance, position advance hu...  \n",
            "4  [everybody hate United, hate United States, Un...  \n"
          ]
        }
      ]
    },
    {
      "cell_type": "code",
      "source": [],
      "metadata": {
        "id": "WWAIopt7FDFQ"
      },
      "execution_count": null,
      "outputs": []
    }
  ]
}